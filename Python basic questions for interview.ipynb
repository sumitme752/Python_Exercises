{
 "cells": [
  {
   "cell_type": "code",
   "execution_count": 3,
   "id": "7ddd11a4",
   "metadata": {},
   "outputs": [
    {
     "name": "stdout",
     "output_type": "stream",
     "text": [
      "Enter the first number number5\n",
      "Enter the second number4\n",
      "The sum of two number is: 9\n"
     ]
    }
   ],
   "source": [
    "#  Write a Python program to calculate and print the sum of two numbers entered by the user.\n",
    "\n",
    "num1=int(input(\"Enter the first number number\"))\n",
    "num2=int(input(\"Enter the second number\"))\n",
    "\n",
    "sum= num1+num2\n",
    "print(\"The sum of two number is:\",sum)"
   ]
  },
  {
   "cell_type": "code",
   "execution_count": 3,
   "id": "5302c24d",
   "metadata": {},
   "outputs": [
    {
     "name": "stdout",
     "output_type": "stream",
     "text": [
      "Enter the number: 6\n",
      "6 is even number\n"
     ]
    }
   ],
   "source": [
    "#. Write a Python program to check if a given number is even or odd.\n",
    "\n",
    "num=int(input(\"Enter the number: \"))\n",
    "if num%2==0:\n",
    "    print(f\"{num} is even number\")\n",
    "else:\n",
    "    print(f\"{num} is odd number\")"
   ]
  },
  {
   "cell_type": "code",
   "execution_count": 16,
   "id": "278bd70a",
   "metadata": {},
   "outputs": [
    {
     "name": "stdout",
     "output_type": "stream",
     "text": [
      "The largest element in the list is: 9\n",
      "The largest number is:  9\n"
     ]
    }
   ],
   "source": [
    "# Write a Python program to find the largest element in a list.\n",
    "numbers = [5, 2, 9, 1, 7]\n",
    "largest = max(numbers)\n",
    "print(\"The largest element in the list is:\", largest)\n",
    "\n",
    "# 2nd method\n",
    "a=0\n",
    "for i in numbers:\n",
    "    if a>i:\n",
    "        a=a\n",
    "    else:\n",
    "        a=i\n",
    "print(\"The largest number is: \",a)"
   ]
  },
  {
   "cell_type": "code",
   "execution_count": 20,
   "id": "5d54fad3",
   "metadata": {},
   "outputs": [
    {
     "name": "stdout",
     "output_type": "stream",
     "text": [
      "Enter a number: 4\n",
      "The factorial of 4 is: 24\n"
     ]
    }
   ],
   "source": [
    "# What is recursive function?\n",
    "'''A recursive function in Python is a function that calls itself within its own body. \n",
    "In other words, the function definition refers to itself during its execution. \n",
    "This technique is known as recursion.\n",
    "\n",
    "'''\n",
    "\n",
    "\n",
    "\n",
    "# Write a Python program to calculate the factorial of a number using recursion.\n",
    "\n",
    "def factorial(n):\n",
    "    if n == 0:\n",
    "        return 1\n",
    "    else:\n",
    "        return n * factorial(n - 1)\n",
    "\n",
    "num = int(input(\"Enter a number: \"))\n",
    "print(\"The factorial of\", num, \"is:\", factorial(num))\n"
   ]
  },
  {
   "cell_type": "code",
   "execution_count": 2,
   "id": "59056854",
   "metadata": {},
   "outputs": [
    {
     "name": "stdout",
     "output_type": "stream",
     "text": [
      "Enter a word: abba\n",
      "abba is a palindrome\n"
     ]
    }
   ],
   "source": [
    "# Write a Python program to check if a given string is a palindrome.\n",
    "\n",
    "def is_palindrome(string):\n",
    "    reversed_string = string[::-1]\n",
    "    if string == reversed_string:\n",
    "        return True\n",
    "    else:\n",
    "        return False\n",
    "\n",
    "word = input(\"Enter a word: \")\n",
    "if is_palindrome(word)==True:\n",
    "    print(word, \"is a palindrome\")\n",
    "else:\n",
    "    print(word, \"is not a palindrome\")"
   ]
  },
  {
   "cell_type": "code",
   "execution_count": 22,
   "id": "e801c182",
   "metadata": {},
   "outputs": [
    {
     "data": {
      "text/plain": [
       "'timus'"
      ]
     },
     "execution_count": 22,
     "metadata": {},
     "output_type": "execute_result"
    }
   ],
   "source": [
    "x=\"sumit\"\n",
    "x[::-1]"
   ]
  },
  {
   "cell_type": "code",
   "execution_count": 25,
   "id": "c812af31",
   "metadata": {},
   "outputs": [
    {
     "name": "stdout",
     "output_type": "stream",
     "text": [
      "Reverse list is:  [5, 4, 3, 2, 1]\n"
     ]
    }
   ],
   "source": [
    "# Write a Python program to reverse a given list.\n",
    "numbers = [1, 2, 3, 4, 5]\n",
    "print(\"Reverse list is: \",numbers[::-1])\n"
   ]
  },
  {
   "cell_type": "code",
   "execution_count": 29,
   "id": "9af0f9c0",
   "metadata": {},
   "outputs": [
    {
     "name": "stdout",
     "output_type": "stream",
     "text": [
      "Common elements: [4, 5]\n",
      "\n",
      "Common element from both the list is  [4, 5]\n"
     ]
    }
   ],
   "source": [
    "# Write a Python program to find the common elements between two lists.\n",
    "list1 = [1, 2, 3, 4, 5]\n",
    "list2 = [4, 5, 6, 7, 8]\n",
    "common_elements = [element for element in list1 if element in list2]\n",
    "print(\"Common elements:\", common_elements)\n",
    "\n",
    "\n",
    "print()\n",
    "# 2nd method\n",
    "a=[]\n",
    "for i in list1:\n",
    "    for j in list2:\n",
    "        if i==j:\n",
    "            a.append(i)\n",
    "print(\"Common element from both the list is \",a)\n",
    "\n"
   ]
  },
  {
   "cell_type": "code",
   "execution_count": 32,
   "id": "093eccb5",
   "metadata": {},
   "outputs": [
    {
     "name": "stdout",
     "output_type": "stream",
     "text": [
      "Occurrences: {1: 3, 2: 2, 3: 2, 4: 1, 5: 1, 9: 1}\n"
     ]
    }
   ],
   "source": [
    "# Write a Python program to count the occurrences of each element in a list.\n",
    "\n",
    "numbers = [1, 2, 1, 3, 4, 2, 1, 5, 3,9]\n",
    "x = {}\n",
    "for i in numbers:\n",
    "    if i in x:\n",
    "        x[i] += 1\n",
    "    else:\n",
    "        x[i] = 1\n",
    "print(\"Occurrences:\", x)\n"
   ]
  },
  {
   "cell_type": "code",
   "execution_count": 56,
   "id": "3d3e97eb",
   "metadata": {},
   "outputs": [
    {
     "data": {
      "text/plain": [
       "{'sumit': 1, 'kumar': 2, 'amit': 1}"
      ]
     },
     "execution_count": 56,
     "metadata": {},
     "output_type": "execute_result"
    }
   ],
   "source": [
    "#Implement a function to count the frequency of each word in a given text.\n",
    "\n",
    "def count_word_frequency(text):\n",
    "    words = text.lower().split()\n",
    "    frequency = {}\n",
    "    for word in words:\n",
    "        frequency[word] = frequency.get(word, 0) + 1\n",
    "    return frequency\n",
    "count_word_frequency(\"sumit kumar amit kumar\")"
   ]
  },
  {
   "cell_type": "code",
   "execution_count": 6,
   "id": "6edd4a66",
   "metadata": {},
   "outputs": [
    {
     "name": "stdout",
     "output_type": "stream",
     "text": [
      "The second-largest number in the list is: 7\n",
      "The second-largest number in the list is: 7\n"
     ]
    }
   ],
   "source": [
    "# Write a Python program to find the second-largest number in a list.\n",
    "\n",
    "numbers = [5, 2, 9, 1, 7]\n",
    "numbers.sort()\n",
    "second_largest = numbers[-2]\n",
    "print(\"The second-largest number in the list is:\", second_largest)\n",
    "\n",
    "#2nd method\n",
    "\n",
    "numbers = [5, 2, 9, 1, 7]\n",
    "largest = float('-inf')  # Initialize largest as negative infinity\n",
    "second_largest = float('-inf')  # Initialize second_largest as negative infinity\n",
    "\n",
    "for i in numbers:\n",
    "    if i > largest:\n",
    "        second_largest = largest\n",
    "        largest = i\n",
    "    elif i > second_largest and i < largest:\n",
    "        second_largest = i\n",
    "\n",
    "print(\"The second-largest number in the list is:\", second_largest)\n"
   ]
  },
  {
   "cell_type": "code",
   "execution_count": 37,
   "id": "38080ddf",
   "metadata": {},
   "outputs": [
    {
     "name": "stdout",
     "output_type": "stream",
     "text": [
      "List with duplicates removed: [1, 2, 3, 4, 5]\n"
     ]
    }
   ],
   "source": [
    "# Write a Python program to remove duplicate elements from a list.\n",
    "\n",
    "numbers = [1, 2, 1, 3, 4, 2, 1, 5, 3]\n",
    "unique_numbers = list(set(numbers))\n",
    "print(\"List with duplicates removed:\", unique_numbers)\n",
    "\n"
   ]
  },
  {
   "cell_type": "code",
   "execution_count": 7,
   "id": "9f739b1e",
   "metadata": {},
   "outputs": [
    {
     "name": "stdout",
     "output_type": "stream",
     "text": [
      "Enter a year: 2024\n",
      "2024 is a leap year\n"
     ]
    }
   ],
   "source": [
    "# Write a Python program to check if a given year is a leap year.\n",
    "\n",
    "def is_leap_year(year):\n",
    "    if year % 4 == 0:\n",
    "        if year % 100 == 0:\n",
    "            if year % 400 == 0:\n",
    "                return True\n",
    "            else:\n",
    "                return False\n",
    "        else:\n",
    "            return True\n",
    "    else:\n",
    "        return False\n",
    "\n",
    "year = int(input(\"Enter a year: \"))\n",
    "if is_leap_year(year)==True:\n",
    "    print(year, \"is a leap year\")\n",
    "else:\n",
    "    print(year, \"is not a leap year\")\n",
    "\n",
    "\n"
   ]
  },
  {
   "cell_type": "code",
   "execution_count": 39,
   "id": "5385fdfb",
   "metadata": {},
   "outputs": [
    {
     "name": "stdout",
     "output_type": "stream",
     "text": [
      "Enter the starting number: 45\n",
      "Enter the ending number: 67\n",
      "Prime numbers within the range: [47, 53, 59, 61, 67]\n"
     ]
    }
   ],
   "source": [
    "# Write a Python program to find the sum of all prime numbers within a given range.\n",
    "\n",
    "def is_prime(num):\n",
    "    if num < 2:\n",
    "        return False\n",
    "    for i in range(2, int(num ** 0.5) + 1):\n",
    "        if num % i == 0:\n",
    "            return False\n",
    "    return True\n",
    "\n",
    "start = int(input(\"Enter the starting number: \"))\n",
    "end = int(input(\"Enter the ending number: \"))\n",
    "\n",
    "prime_numbers = [num for num in range(start, end + 1) if is_prime(num)]\n",
    "print(\"Prime numbers within the range:\", prime_numbers)\n",
    "\n",
    "\n"
   ]
  },
  {
   "cell_type": "code",
   "execution_count": 4,
   "id": "dbc00df5",
   "metadata": {
    "scrolled": true
   },
   "outputs": [
    {
     "name": "stdout",
     "output_type": "stream",
     "text": [
      "Enter a number: 27\n",
      "Fibonacci series up to 27 : [0, 1, 1, 2, 3, 5, 8, 13, 21, 34, 55, 89, 144, 233, 377, 610, 987, 1597, 2584, 4181, 6765, 10946, 17711, 28657, 46368, 75025, 121393]\n"
     ]
    }
   ],
   "source": [
    "# Write a Python program to generate Fibonacci series up to a given number.\n",
    "\n",
    "def fibonacci(n):\n",
    "    sequence = [0,1]\n",
    "    for i in range(2, n):\n",
    "        sequence.append(sequence[i - 1] + sequence[i - 2])\n",
    "    return sequence\n",
    "\n",
    "num = int(input(\"Enter a number: \"))\n",
    "fibonacci_sequence = fibonacci(num)\n",
    "print(\"Fibonacci series up to\", num, \":\", fibonacci_sequence)\n",
    "\n",
    "\n",
    "# 2nd method is more accurate\n",
    "\n",
    "def fibonacci2(n):\n",
    "    if n <= 1:\n",
    "        return n\n",
    "    else:\n",
    "        return fibonacci2(n-1) + fibonacci2(n-2)\n",
    "\n",
    "\n"
   ]
  },
  {
   "cell_type": "code",
   "execution_count": 6,
   "id": "51b6ff5a",
   "metadata": {},
   "outputs": [
    {
     "data": {
      "text/plain": [
       "196418"
      ]
     },
     "execution_count": 6,
     "metadata": {},
     "output_type": "execute_result"
    }
   ],
   "source": [
    "75025+121393"
   ]
  },
  {
   "cell_type": "code",
   "execution_count": 5,
   "id": "f42ad21a",
   "metadata": {},
   "outputs": [
    {
     "data": {
      "text/plain": [
       "196418"
      ]
     },
     "execution_count": 5,
     "metadata": {},
     "output_type": "execute_result"
    }
   ],
   "source": [
    "fibonacci2(27)"
   ]
  },
  {
   "cell_type": "code",
   "execution_count": 42,
   "id": "4fc6c5d9",
   "metadata": {},
   "outputs": [
    {
     "name": "stdout",
     "output_type": "stream",
     "text": [
      "Enter a number: 4\n",
      "The factorial of 4 is: 24\n"
     ]
    }
   ],
   "source": [
    "# Write a Python program to find the factorial of a number using a loop.\n",
    "\n",
    "def factorial(n):\n",
    "    fact = 1\n",
    "    for i in range(1, n + 1):\n",
    "        fact *= i\n",
    "    return fact\n",
    "\n",
    "num = int(input(\"Enter a number: \"))\n",
    "print(\"The factorial of\", num, \"is:\", factorial(num))\n"
   ]
  },
  {
   "cell_type": "code",
   "execution_count": 43,
   "id": "b446e028",
   "metadata": {},
   "outputs": [
    {
     "name": "stdout",
     "output_type": "stream",
     "text": [
      "Intersection of lists: [4, 5]\n"
     ]
    }
   ],
   "source": [
    "def list_intersection(list1, list2):\n",
    "    intersection = list(set(list1) & set(list2))\n",
    "    return intersection\n",
    "\n",
    "list1 = [1, 2, 3, 4, 5]\n",
    "list2 = [4, 5, 6, 7, 8]\n",
    "result = list_intersection(list1, list2)\n",
    "print(\"Intersection of lists:\", result)\n"
   ]
  },
  {
   "cell_type": "code",
   "execution_count": 57,
   "id": "4e4db0d9",
   "metadata": {},
   "outputs": [
    {
     "data": {
      "text/plain": [
       "[4, 5]"
      ]
     },
     "execution_count": 57,
     "metadata": {},
     "output_type": "execute_result"
    }
   ],
   "source": [
    "def find_intersection(list1, list2):\n",
    "    set1 = set(list1)\n",
    "    set2 = set(list2)\n",
    "    return list(set1.intersection(set2))\n",
    "find_intersection([1, 2, 3, 4, 5],[4, 5, 6, 7, 8])"
   ]
  },
  {
   "cell_type": "code",
   "execution_count": 3,
   "id": "0dfd877f",
   "metadata": {},
   "outputs": [],
   "source": [
    "x={}"
   ]
  },
  {
   "cell_type": "code",
   "execution_count": null,
   "id": "5ebb6531",
   "metadata": {},
   "outputs": [],
   "source": []
  }
 ],
 "metadata": {
  "kernelspec": {
   "display_name": "Python 3 (ipykernel)",
   "language": "python",
   "name": "python3"
  },
  "language_info": {
   "codemirror_mode": {
    "name": "ipython",
    "version": 3
   },
   "file_extension": ".py",
   "mimetype": "text/x-python",
   "name": "python",
   "nbconvert_exporter": "python",
   "pygments_lexer": "ipython3",
   "version": "3.9.12"
  }
 },
 "nbformat": 4,
 "nbformat_minor": 5
}
