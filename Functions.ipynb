{
 "cells": [
  {
   "cell_type": "code",
   "execution_count": null,
   "id": "3014f067",
   "metadata": {},
   "outputs": [],
   "source": [
    "def kum():\n",
    "    return 4+5"
   ]
  },
  {
   "cell_type": "code",
   "execution_count": null,
   "id": "335d98fc",
   "metadata": {},
   "outputs": [],
   "source": [
    "kum()"
   ]
  },
  {
   "cell_type": "code",
   "execution_count": null,
   "id": "4c2aadb1",
   "metadata": {},
   "outputs": [],
   "source": [
    "kum()"
   ]
  },
  {
   "cell_type": "code",
   "execution_count": null,
   "id": "2ff97d64",
   "metadata": {},
   "outputs": [],
   "source": [
    "def fun(a,b,c,d,e,f):\n",
    "    return a+b, c-d , e*f"
   ]
  },
  {
   "cell_type": "code",
   "execution_count": null,
   "id": "1558c254",
   "metadata": {},
   "outputs": [],
   "source": [
    "fun(4,5,6,1,9,8)"
   ]
  },
  {
   "cell_type": "code",
   "execution_count": null,
   "id": "67e25bcb",
   "metadata": {},
   "outputs": [],
   "source": [
    "x=int(input(\"enter the number\"))"
   ]
  },
  {
   "cell_type": "code",
   "execution_count": null,
   "id": "2afb68de",
   "metadata": {},
   "outputs": [],
   "source": [
    "x"
   ]
  },
  {
   "cell_type": "code",
   "execution_count": null,
   "id": "62e4d406",
   "metadata": {},
   "outputs": [],
   "source": [
    "y=67"
   ]
  },
  {
   "cell_type": "code",
   "execution_count": null,
   "id": "a976664f",
   "metadata": {},
   "outputs": [],
   "source": [
    "y"
   ]
  },
  {
   "cell_type": "code",
   "execution_count": null,
   "id": "949f4319",
   "metadata": {},
   "outputs": [],
   "source": [
    "# define a function\n",
    "def add(a,b):\n",
    "    print(a+b)"
   ]
  },
  {
   "cell_type": "code",
   "execution_count": null,
   "id": "33be836c",
   "metadata": {},
   "outputs": [],
   "source": [
    "# calling a function\n",
    "s=add(5,6)"
   ]
  },
  {
   "cell_type": "code",
   "execution_count": null,
   "id": "6e0f851b",
   "metadata": {},
   "outputs": [],
   "source": [
    "print(s)"
   ]
  },
  {
   "cell_type": "code",
   "execution_count": null,
   "id": "eb2722d2",
   "metadata": {},
   "outputs": [],
   "source": [
    "type(add(5,6))"
   ]
  },
  {
   "cell_type": "code",
   "execution_count": null,
   "id": "decbae9b",
   "metadata": {},
   "outputs": [],
   "source": [
    "add(5,6)+7"
   ]
  },
  {
   "cell_type": "code",
   "execution_count": null,
   "id": "64604844",
   "metadata": {},
   "outputs": [],
   "source": [
    "y=add(5,6)"
   ]
  },
  {
   "cell_type": "code",
   "execution_count": null,
   "id": "22d0c136",
   "metadata": {},
   "outputs": [],
   "source": [
    "type(y)"
   ]
  },
  {
   "cell_type": "code",
   "execution_count": null,
   "id": "cc321b2a",
   "metadata": {},
   "outputs": [],
   "source": [
    "def test(a,b):\n",
    "    return(a+b)"
   ]
  },
  {
   "cell_type": "code",
   "execution_count": null,
   "id": "127a68b5",
   "metadata": {},
   "outputs": [],
   "source": [
    "d=test(4,5)"
   ]
  },
  {
   "cell_type": "code",
   "execution_count": null,
   "id": "671882f6",
   "metadata": {},
   "outputs": [],
   "source": [
    "print(d)"
   ]
  },
  {
   "cell_type": "code",
   "execution_count": null,
   "id": "d95028af",
   "metadata": {},
   "outputs": [],
   "source": [
    "type(d)"
   ]
  },
  {
   "cell_type": "code",
   "execution_count": null,
   "id": "284320ac",
   "metadata": {},
   "outputs": [],
   "source": [
    "test(4,5)+7"
   ]
  },
  {
   "cell_type": "code",
   "execution_count": null,
   "id": "63470ca0",
   "metadata": {},
   "outputs": [],
   "source": [
    "x=test(4,5)"
   ]
  },
  {
   "cell_type": "code",
   "execution_count": null,
   "id": "5a0eb1bb",
   "metadata": {},
   "outputs": [],
   "source": [
    "x"
   ]
  },
  {
   "cell_type": "code",
   "execution_count": null,
   "id": "550ad7ea",
   "metadata": {},
   "outputs": [],
   "source": [
    "#second type positional argument missing\n",
    "def test2(t,n,m):\n",
    "    return t+n"
   ]
  },
  {
   "cell_type": "code",
   "execution_count": null,
   "id": "5285704b",
   "metadata": {},
   "outputs": [],
   "source": [
    "test2(2,3)"
   ]
  },
  {
   "cell_type": "code",
   "execution_count": null,
   "id": "ffa53d9f",
   "metadata": {},
   "outputs": [],
   "source": [
    "test2(2,3,0)"
   ]
  },
  {
   "cell_type": "code",
   "execution_count": null,
   "id": "0fb14e3b",
   "metadata": {},
   "outputs": [],
   "source": [
    "# multiple values from the same function\n",
    "def test3(a,b):\n",
    "    return a+b ,a-b, a*b"
   ]
  },
  {
   "cell_type": "code",
   "execution_count": null,
   "id": "7d47c53a",
   "metadata": {},
   "outputs": [],
   "source": [
    "test3(2,3)"
   ]
  },
  {
   "cell_type": "code",
   "execution_count": null,
   "id": "b35b1d08",
   "metadata": {},
   "outputs": [],
   "source": [
    "a,b,c = test3(2,3)"
   ]
  },
  {
   "cell_type": "code",
   "execution_count": null,
   "id": "f2e46d1f",
   "metadata": {},
   "outputs": [],
   "source": [
    "a"
   ]
  },
  {
   "cell_type": "code",
   "execution_count": null,
   "id": "ba6d6a40",
   "metadata": {},
   "outputs": [],
   "source": [
    "b"
   ]
  },
  {
   "cell_type": "code",
   "execution_count": null,
   "id": "3ff2a6a8",
   "metadata": {},
   "outputs": [],
   "source": [
    "c"
   ]
  },
  {
   "cell_type": "code",
   "execution_count": null,
   "id": "0a0ae672",
   "metadata": {},
   "outputs": [],
   "source": [
    "def test0():\n",
    "    print (\"sumit\")"
   ]
  },
  {
   "cell_type": "code",
   "execution_count": null,
   "id": "b41caee1",
   "metadata": {},
   "outputs": [],
   "source": [
    "type(test0())"
   ]
  },
  {
   "cell_type": "code",
   "execution_count": null,
   "id": "77d69d44",
   "metadata": {},
   "outputs": [],
   "source": [
    "test0()+\"kumar\""
   ]
  },
  {
   "cell_type": "code",
   "execution_count": null,
   "id": "0667854a",
   "metadata": {},
   "outputs": [],
   "source": [
    "def test7():\n",
    "    return \"sumit\""
   ]
  },
  {
   "cell_type": "code",
   "execution_count": null,
   "id": "edcfc5e0",
   "metadata": {},
   "outputs": [],
   "source": [
    "type(test7())"
   ]
  },
  {
   "cell_type": "code",
   "execution_count": null,
   "id": "25dfff4a",
   "metadata": {},
   "outputs": [],
   "source": [
    "test7()+\" \"+\"kumar\""
   ]
  },
  {
   "cell_type": "code",
   "execution_count": null,
   "id": "45e6a0fa",
   "metadata": {},
   "outputs": [],
   "source": [
    "n= test7()"
   ]
  },
  {
   "cell_type": "code",
   "execution_count": null,
   "id": "4d91b553",
   "metadata": {},
   "outputs": [],
   "source": [
    "n+\"sfdsdf\""
   ]
  },
  {
   "cell_type": "code",
   "execution_count": null,
   "id": "167b2e27",
   "metadata": {},
   "outputs": [],
   "source": [
    "def test8(n):\n",
    "    return n*2"
   ]
  },
  {
   "cell_type": "code",
   "execution_count": null,
   "id": "3fe55eb0",
   "metadata": {},
   "outputs": [],
   "source": [
    "test8([1,2,3,4,5,6])"
   ]
  },
  {
   "cell_type": "code",
   "execution_count": null,
   "id": "cc328aaa",
   "metadata": {},
   "outputs": [],
   "source": [
    "def mun(n):\n",
    "    l=[]\n",
    "    for i in n:\n",
    "        if type(i) == int:\n",
    "            l.append(i*2)\n",
    "    return l\n",
    "            "
   ]
  },
  {
   "cell_type": "code",
   "execution_count": null,
   "id": "d54da63c",
   "metadata": {},
   "outputs": [],
   "source": [
    "mun([1,2,3,4,5,6])"
   ]
  },
  {
   "cell_type": "code",
   "execution_count": null,
   "id": "7d8c8a40",
   "metadata": {},
   "outputs": [],
   "source": [
    "test8(45)"
   ]
  },
  {
   "cell_type": "code",
   "execution_count": null,
   "id": "fa089c19",
   "metadata": {},
   "outputs": [],
   "source": [
    "def test9(n):\n",
    "    return n, n*2"
   ]
  },
  {
   "cell_type": "code",
   "execution_count": null,
   "id": "404bdebb",
   "metadata": {},
   "outputs": [],
   "source": [
    "b=test9([4,5,6,6,7])"
   ]
  },
  {
   "cell_type": "code",
   "execution_count": null,
   "id": "a86022be",
   "metadata": {},
   "outputs": [],
   "source": [
    "b"
   ]
  },
  {
   "cell_type": "code",
   "execution_count": null,
   "id": "e6f329e2",
   "metadata": {},
   "outputs": [],
   "source": [
    "b[0]"
   ]
  },
  {
   "cell_type": "code",
   "execution_count": null,
   "id": "7c8f0316",
   "metadata": {},
   "outputs": [],
   "source": [
    "b[1]"
   ]
  },
  {
   "cell_type": "code",
   "execution_count": null,
   "id": "42d4da31",
   "metadata": {},
   "outputs": [],
   "source": [
    "#Default value shuld be at last in arguments\n",
    "def test10(n,m=90):   \n",
    "    return n+m"
   ]
  },
  {
   "cell_type": "code",
   "execution_count": null,
   "id": "d68feec6",
   "metadata": {},
   "outputs": [],
   "source": [
    "test10(40)"
   ]
  },
  {
   "cell_type": "code",
   "execution_count": null,
   "id": "09d6a7e6",
   "metadata": {},
   "outputs": [],
   "source": [
    "#we are overight the value of m\n",
    "test10(2,3)"
   ]
  },
  {
   "cell_type": "code",
   "execution_count": null,
   "id": "61de5bfc",
   "metadata": {},
   "outputs": [],
   "source": [
    "def boolx(x=True, y=False):\n",
    "    return x+y"
   ]
  },
  {
   "cell_type": "code",
   "execution_count": null,
   "id": "9c2faa87",
   "metadata": {},
   "outputs": [],
   "source": [
    "boolx()"
   ]
  },
  {
   "cell_type": "code",
   "execution_count": null,
   "id": "d9b2a264",
   "metadata": {},
   "outputs": [],
   "source": [
    "boolx(False)"
   ]
  },
  {
   "cell_type": "code",
   "execution_count": 38,
   "id": "be4d059d",
   "metadata": {},
   "outputs": [],
   "source": [
    "#Args use in function (*args) , We can pass n number of arguments\n",
    "def test11(*args):\n",
    "    return args"
   ]
  },
  {
   "cell_type": "code",
   "execution_count": 39,
   "id": "c3eeaca2",
   "metadata": {},
   "outputs": [
    {
     "data": {
      "text/plain": [
       "('sumit', 'kumar', 34, [34, 4, 4, 5, 454, 54])"
      ]
     },
     "execution_count": 39,
     "metadata": {},
     "output_type": "execute_result"
    }
   ],
   "source": [
    "test11(\"sumit\",\"kumar\",34,[34,4,4,5,454,54])"
   ]
  },
  {
   "cell_type": "code",
   "execution_count": 36,
   "id": "4a2c8c5d",
   "metadata": {},
   "outputs": [],
   "source": [
    "def lst(*args):\n",
    "    l=[]\n",
    "    for i in args:\n",
    "        l.extend(i)\n",
    "    return l    \n",
    "        "
   ]
  },
  {
   "cell_type": "code",
   "execution_count": 37,
   "id": "66dc2588",
   "metadata": {},
   "outputs": [
    {
     "data": {
      "text/plain": [
       "[1, 2, 3, 4, 3, 4, 5, 6]"
      ]
     },
     "execution_count": 37,
     "metadata": {},
     "output_type": "execute_result"
    }
   ],
   "source": [
    "lst([1,2,3,4],[3,4,5,6])"
   ]
  },
  {
   "cell_type": "code",
   "execution_count": 40,
   "id": "5924626b",
   "metadata": {},
   "outputs": [],
   "source": [
    "#  **kwargs use in function  output is in form of dictionary\n",
    "def test16(**kwargs):\n",
    "    return kwargs"
   ]
  },
  {
   "cell_type": "code",
   "execution_count": 41,
   "id": "2a0f515e",
   "metadata": {},
   "outputs": [
    {
     "data": {
      "text/plain": [
       "{'a': 3, 'b': 5, 'c': 7}"
      ]
     },
     "execution_count": 41,
     "metadata": {},
     "output_type": "execute_result"
    }
   ],
   "source": [
    "test16(a=3,b=5,c=7)"
   ]
  },
  {
   "cell_type": "code",
   "execution_count": null,
   "id": "39337c15",
   "metadata": {},
   "outputs": [],
   "source": [
    "# lambda function\n",
    "x=lambda a,b:a+b"
   ]
  },
  {
   "cell_type": "code",
   "execution_count": null,
   "id": "08edd7f4",
   "metadata": {},
   "outputs": [],
   "source": [
    "x(2,3)"
   ]
  },
  {
   "cell_type": "code",
   "execution_count": null,
   "id": "e775f998",
   "metadata": {},
   "outputs": [],
   "source": [
    "x=(3,4,5,6,7)"
   ]
  },
  {
   "cell_type": "code",
   "execution_count": null,
   "id": "caedb035",
   "metadata": {},
   "outputs": [],
   "source": [
    "list(x)"
   ]
  },
  {
   "cell_type": "code",
   "execution_count": null,
   "id": "3ae40ed3",
   "metadata": {},
   "outputs": [],
   "source": [
    "a=[]\n",
    "for i in x:\n",
    "    a.append(i)\n",
    "print(a)    "
   ]
  },
  {
   "cell_type": "code",
   "execution_count": null,
   "id": "8489430d",
   "metadata": {},
   "outputs": [],
   "source": [
    "b=0\n",
    "for i in x:\n",
    "    b=b+i"
   ]
  },
  {
   "cell_type": "code",
   "execution_count": null,
   "id": "25c4edca",
   "metadata": {},
   "outputs": [],
   "source": [
    "b"
   ]
  },
  {
   "cell_type": "code",
   "execution_count": null,
   "id": "900ec24f",
   "metadata": {},
   "outputs": [],
   "source": [
    "c=0\n",
    "[c:=c+ i for i in [3, 4, 5, 6, 7]]"
   ]
  },
  {
   "cell_type": "code",
   "execution_count": null,
   "id": "c8afc705",
   "metadata": {},
   "outputs": [],
   "source": [
    " b=lambda *args : sum(args)"
   ]
  },
  {
   "cell_type": "code",
   "execution_count": null,
   "id": "7b4ef96b",
   "metadata": {},
   "outputs": [],
   "source": [
    "b(3,4,5,6,7)"
   ]
  },
  {
   "cell_type": "code",
   "execution_count": null,
   "id": "28d9ff2f",
   "metadata": {},
   "outputs": [],
   "source": [
    "t=(3, 4, 5, 6, 7)\n",
    "l=[]\n",
    "for i in t:\n",
    "    l.append(i)\n",
    "print(l)    "
   ]
  },
  {
   "cell_type": "code",
   "execution_count": null,
   "id": "03637f03",
   "metadata": {},
   "outputs": [],
   "source": [
    "[i for i in t]"
   ]
  },
  {
   "cell_type": "code",
   "execution_count": null,
   "id": "a580edf6",
   "metadata": {},
   "outputs": [],
   "source": [
    "[i*i for i in range(1,11)]"
   ]
  },
  {
   "cell_type": "code",
   "execution_count": null,
   "id": "45d0ca60",
   "metadata": {},
   "outputs": [],
   "source": [
    "#need to revise lambda function"
   ]
  },
  {
   "cell_type": "code",
   "execution_count": null,
   "id": "a9cdf12d",
   "metadata": {},
   "outputs": [],
   "source": [
    "c = 0\n",
    "for i in [3, 4, 5, 6, 7]:\n",
    "    c += i\n"
   ]
  },
  {
   "cell_type": "code",
   "execution_count": null,
   "id": "90982b00",
   "metadata": {},
   "outputs": [],
   "source": [
    "c"
   ]
  },
  {
   "cell_type": "code",
   "execution_count": null,
   "id": "dc5ff072",
   "metadata": {},
   "outputs": [],
   "source": [
    "\n",
    "result = sum([i for i in [3, 4, 5, 6, 7]])\n"
   ]
  },
  {
   "cell_type": "code",
   "execution_count": null,
   "id": "b8264855",
   "metadata": {},
   "outputs": [],
   "source": [
    "print(result)"
   ]
  },
  {
   "cell_type": "code",
   "execution_count": null,
   "id": "bdbd12fb",
   "metadata": {},
   "outputs": [],
   "source": [
    "def test(*args):\n",
    "    return list(args)"
   ]
  },
  {
   "cell_type": "code",
   "execution_count": null,
   "id": "fb366c2e",
   "metadata": {},
   "outputs": [],
   "source": [
    "test(1,2,3,4)"
   ]
  },
  {
   "cell_type": "code",
   "execution_count": null,
   "id": "29c5e345",
   "metadata": {},
   "outputs": [],
   "source": [
    "def test(*args):\n",
    "    return args"
   ]
  },
  {
   "cell_type": "code",
   "execution_count": null,
   "id": "25ffc29e",
   "metadata": {},
   "outputs": [],
   "source": [
    "def add(test):\n",
    "    return sum(test)"
   ]
  },
  {
   "cell_type": "code",
   "execution_count": null,
   "id": "a1a47570",
   "metadata": {},
   "outputs": [],
   "source": [
    "add(test(2,3))"
   ]
  },
  {
   "cell_type": "code",
   "execution_count": null,
   "id": "49d901ee",
   "metadata": {},
   "outputs": [],
   "source": [
    "#Function inside function"
   ]
  },
  {
   "cell_type": "code",
   "execution_count": 64,
   "id": "f932cf93",
   "metadata": {},
   "outputs": [],
   "source": [
    "def test15(a):\n",
    "    print(\"this is my test 15\")\n",
    "    \n",
    "    def test16():\n",
    "        print(\"this is my test 16\")\n",
    "    \n",
    "    def test17():\n",
    "        print(\"this is my test 17\")\n",
    "        \n",
    "    if a==\"sudh\":\n",
    "        return test16()\n",
    "    elif a==\"kumar\":\n",
    "        return test17()"
   ]
  },
  {
   "cell_type": "code",
   "execution_count": 65,
   "id": "25fb439b",
   "metadata": {},
   "outputs": [
    {
     "name": "stdout",
     "output_type": "stream",
     "text": [
      "this is my test 15\n",
      "this is my test 17\n"
     ]
    }
   ],
   "source": [
    "test15(\"kumar\")"
   ]
  },
  {
   "cell_type": "code",
   "execution_count": null,
   "id": "633d36a9",
   "metadata": {
    "scrolled": true
   },
   "outputs": [],
   "source": [
    "test15(\"kumar\")"
   ]
  },
  {
   "cell_type": "code",
   "execution_count": 66,
   "id": "f92b57c9",
   "metadata": {},
   "outputs": [],
   "source": [
    "def test13(*args):\n",
    "    print( \"sudh\")"
   ]
  },
  {
   "cell_type": "code",
   "execution_count": 67,
   "id": "bbad2350",
   "metadata": {},
   "outputs": [],
   "source": [
    "def test18(func):\n",
    "    def test19():\n",
    "        print(\"this is test 19\")\n",
    "        func()\n",
    "    return test19()    "
   ]
  },
  {
   "cell_type": "code",
   "execution_count": 68,
   "id": "811c1dde",
   "metadata": {},
   "outputs": [
    {
     "name": "stdout",
     "output_type": "stream",
     "text": [
      "this is test 19\n",
      "sudh\n"
     ]
    }
   ],
   "source": [
    "test18(test13)"
   ]
  },
  {
   "cell_type": "code",
   "execution_count": 77,
   "id": "48cf04e4",
   "metadata": {},
   "outputs": [],
   "source": [
    "def test20(func):\n",
    "    def test21():\n",
    "        func()\n",
    "        print(\"this is test 19\")\n",
    "        func()\n",
    "    return test21()   "
   ]
  },
  {
   "cell_type": "code",
   "execution_count": 78,
   "id": "e3e8c343",
   "metadata": {},
   "outputs": [
    {
     "name": "stdout",
     "output_type": "stream",
     "text": [
      "sudh\n",
      "this is test 19\n",
      "sudh\n"
     ]
    }
   ],
   "source": [
    "test20(test13)"
   ]
  },
  {
   "cell_type": "code",
   "execution_count": 83,
   "id": "52812522",
   "metadata": {},
   "outputs": [],
   "source": [
    "def test18(func):\n",
    "    def test19():\n",
    "        print(\"this is test 19 this will behave a decerator to any function that i am going to call\")\n",
    "        func()\n",
    "    return test19 "
   ]
  },
  {
   "cell_type": "code",
   "execution_count": 85,
   "id": "adbfc22f",
   "metadata": {},
   "outputs": [],
   "source": [
    "@test18\n",
    "def test20():\n",
    "    print(\"this is my test20\")\n",
    "    "
   ]
  },
  {
   "cell_type": "code",
   "execution_count": 86,
   "id": "613efeb4",
   "metadata": {},
   "outputs": [
    {
     "name": "stdout",
     "output_type": "stream",
     "text": [
      "this is test 19 this will behave a decerator to any function that i am going to call\n",
      "this is my test20\n"
     ]
    }
   ],
   "source": [
    "test20()"
   ]
  },
  {
   "cell_type": "code",
   "execution_count": null,
   "id": "a0f58054",
   "metadata": {},
   "outputs": [],
   "source": [
    "test22(test24)"
   ]
  },
  {
   "cell_type": "code",
   "execution_count": 1,
   "id": "5b2179d5",
   "metadata": {},
   "outputs": [],
   "source": [
    "import time"
   ]
  },
  {
   "cell_type": "code",
   "execution_count": 2,
   "id": "8cb3607d",
   "metadata": {},
   "outputs": [],
   "source": [
    "def test28(func):\n",
    "    def test26(*args):\n",
    "        start=time.time()\n",
    "        func(*args)\n",
    "        end=time.time()\n",
    "        print(end-start)\n",
    "        return func(*args)\n",
    "    return test26"
   ]
  },
  {
   "cell_type": "code",
   "execution_count": 3,
   "id": "f040b48c",
   "metadata": {},
   "outputs": [],
   "source": [
    "# @test28\n",
    "def test27(n):\n",
    "    if n == 0: \n",
    "        return 0\n",
    "    elif n == 1:\n",
    "        return 1\n",
    "    else:\n",
    "        return test27(n - 1) + test27(n - 2)\n",
    "    "
   ]
  },
  {
   "cell_type": "code",
   "execution_count": 5,
   "id": "36d6faee",
   "metadata": {},
   "outputs": [
    {
     "name": "stdout",
     "output_type": "stream",
     "text": [
      "196418\n"
     ]
    }
   ],
   "source": [
    "# start = time.time()\n",
    "result = test27(27)\n",
    "# end = time.time()\n",
    "print(result)\n",
    "# print(\"Execution time:\", end - start)"
   ]
  },
  {
   "cell_type": "code",
   "execution_count": 12,
   "id": "39b8e426",
   "metadata": {},
   "outputs": [],
   "source": [
    "@test28\n",
    "def d(n):    \n",
    "    z=0\n",
    "    for i in range(n):\n",
    "        z=i+z\n",
    "    return z    "
   ]
  },
  {
   "cell_type": "code",
   "execution_count": 13,
   "id": "51b60794",
   "metadata": {},
   "outputs": [
    {
     "name": "stdout",
     "output_type": "stream",
     "text": [
      "1.5020370483398438e-05\n"
     ]
    },
    {
     "data": {
      "text/plain": [
       "4950"
      ]
     },
     "execution_count": 13,
     "metadata": {},
     "output_type": "execute_result"
    }
   ],
   "source": [
    "d(100)"
   ]
  },
  {
   "cell_type": "code",
   "execution_count": null,
   "id": "66086c1e",
   "metadata": {},
   "outputs": [],
   "source": [
    "def test1(func):\n",
    "    def test2(*args):\n",
    "        print(\"i am inside test2\")\n",
    "        func(*args)\n",
    "#         print(func())\n",
    "        print(\"func executed\")\n",
    "        return func(*args)\n",
    "    return test2    "
   ]
  },
  {
   "cell_type": "code",
   "execution_count": null,
   "id": "0d035f4b",
   "metadata": {},
   "outputs": [],
   "source": [
    "@test1\n",
    "def test3(a,b):\n",
    "    print(\"this is my test 3\", a+b)"
   ]
  },
  {
   "cell_type": "code",
   "execution_count": null,
   "id": "c564c5c2",
   "metadata": {},
   "outputs": [],
   "source": [
    "test3(2,3)"
   ]
  },
  {
   "cell_type": "code",
   "execution_count": null,
   "id": "4967c2c7",
   "metadata": {},
   "outputs": [],
   "source": [
    "@test1\n",
    "def test4():\n",
    "    return 5+6"
   ]
  },
  {
   "cell_type": "code",
   "execution_count": null,
   "id": "630ef7d8",
   "metadata": {},
   "outputs": [],
   "source": [
    "a=test4()"
   ]
  },
  {
   "cell_type": "code",
   "execution_count": null,
   "id": "f3553325",
   "metadata": {},
   "outputs": [],
   "source": [
    "type(a)"
   ]
  },
  {
   "cell_type": "code",
   "execution_count": 16,
   "id": "3371dea7",
   "metadata": {},
   "outputs": [],
   "source": [
    "x=lambda a,b:a+b    # lambda arguments : operation"
   ]
  },
  {
   "cell_type": "code",
   "execution_count": 17,
   "id": "6d6d2e09",
   "metadata": {},
   "outputs": [
    {
     "data": {
      "text/plain": [
       "5"
      ]
     },
     "execution_count": 17,
     "metadata": {},
     "output_type": "execute_result"
    }
   ],
   "source": [
    "x(2,3)"
   ]
  },
  {
   "cell_type": "code",
   "execution_count": 18,
   "id": "dbc663b4",
   "metadata": {},
   "outputs": [],
   "source": [
    "x=lambda *args:sum(*args)"
   ]
  },
  {
   "cell_type": "code",
   "execution_count": 22,
   "id": "b3b5a3b2",
   "metadata": {},
   "outputs": [
    {
     "data": {
      "text/plain": [
       "12"
      ]
     },
     "execution_count": 22,
     "metadata": {},
     "output_type": "execute_result"
    }
   ],
   "source": [
    "x([3,4,5])"
   ]
  },
  {
   "cell_type": "markdown",
   "id": "ff4f01a6",
   "metadata": {},
   "source": [
    "# Map function"
   ]
  },
  {
   "cell_type": "code",
   "execution_count": 24,
   "id": "2164e16b",
   "metadata": {},
   "outputs": [
    {
     "data": {
      "text/plain": [
       "[11, 12, 13, 14, 15, 16, 17]"
      ]
     },
     "execution_count": 24,
     "metadata": {},
     "output_type": "execute_result"
    }
   ],
   "source": [
    "x=[1,2,3,4,5,6,7]\n",
    "l=[]\n",
    "for i in x:\n",
    "    l.append(i+10)\n",
    "l    "
   ]
  },
  {
   "cell_type": "code",
   "execution_count": 25,
   "id": "004d6466",
   "metadata": {},
   "outputs": [],
   "source": [
    "l=[1,2,3,4,5,6,7]"
   ]
  },
  {
   "cell_type": "code",
   "execution_count": 26,
   "id": "5005fa90",
   "metadata": {},
   "outputs": [],
   "source": [
    "def test(a):\n",
    "    return a+10"
   ]
  },
  {
   "cell_type": "code",
   "execution_count": 28,
   "id": "a449ea9b",
   "metadata": {},
   "outputs": [
    {
     "data": {
      "text/plain": [
       "[11, 12, 13, 14, 15, 16, 17]"
      ]
     },
     "execution_count": 28,
     "metadata": {},
     "output_type": "execute_result"
    }
   ],
   "source": [
    "list(map(test,l))"
   ]
  },
  {
   "cell_type": "code",
   "execution_count": 30,
   "id": "64acf760",
   "metadata": {},
   "outputs": [
    {
     "data": {
      "text/plain": [
       "[11, 12, 13, 14, 15, 16, 17]"
      ]
     },
     "execution_count": 30,
     "metadata": {},
     "output_type": "execute_result"
    }
   ],
   "source": [
    "list(map(lambda a:a+10,l))"
   ]
  },
  {
   "cell_type": "code",
   "execution_count": 31,
   "id": "917f9f4c",
   "metadata": {},
   "outputs": [],
   "source": [
    "a=lambda a:a+10"
   ]
  },
  {
   "cell_type": "code",
   "execution_count": 32,
   "id": "46fe2370",
   "metadata": {},
   "outputs": [
    {
     "data": {
      "text/plain": [
       "[11, 12, 13, 14, 15, 16, 17]"
      ]
     },
     "execution_count": 32,
     "metadata": {},
     "output_type": "execute_result"
    }
   ],
   "source": [
    "list(map(a,l))"
   ]
  },
  {
   "cell_type": "code",
   "execution_count": 33,
   "id": "c8ea45af",
   "metadata": {},
   "outputs": [],
   "source": [
    "l=[\"sumit\",\"kumar\",\"singh\"]"
   ]
  },
  {
   "cell_type": "code",
   "execution_count": 34,
   "id": "d9f00fe4",
   "metadata": {},
   "outputs": [],
   "source": [
    "z=lambda a : a.upper()"
   ]
  },
  {
   "cell_type": "code",
   "execution_count": 35,
   "id": "5492c680",
   "metadata": {},
   "outputs": [
    {
     "data": {
      "text/plain": [
       "['SUMIT', 'KUMAR', 'SINGH']"
      ]
     },
     "execution_count": 35,
     "metadata": {},
     "output_type": "execute_result"
    }
   ],
   "source": [
    "list(map(z,l))"
   ]
  },
  {
   "cell_type": "code",
   "execution_count": 51,
   "id": "0e51c425",
   "metadata": {},
   "outputs": [],
   "source": [
    "a=20"
   ]
  },
  {
   "cell_type": "code",
   "execution_count": 52,
   "id": "053c8a60",
   "metadata": {},
   "outputs": [
    {
     "data": {
      "text/plain": [
       "20"
      ]
     },
     "execution_count": 52,
     "metadata": {},
     "output_type": "execute_result"
    }
   ],
   "source": [
    "a"
   ]
  },
  {
   "cell_type": "code",
   "execution_count": 92,
   "id": "d38409b4",
   "metadata": {},
   "outputs": [],
   "source": [
    "a=20\n",
    "for i in range(20):\n",
    "    x=0\n",
    "    x=x+i    "
   ]
  },
  {
   "cell_type": "code",
   "execution_count": 93,
   "id": "7e5408fa",
   "metadata": {},
   "outputs": [
    {
     "data": {
      "text/plain": [
       "19"
      ]
     },
     "execution_count": 93,
     "metadata": {},
     "output_type": "execute_result"
    }
   ],
   "source": [
    "x"
   ]
  },
  {
   "cell_type": "code",
   "execution_count": 94,
   "id": "89e876ba",
   "metadata": {},
   "outputs": [
    {
     "data": {
      "text/plain": [
       "['SUMIT', 'KUMAR', 'SINGH']"
      ]
     },
     "execution_count": 94,
     "metadata": {},
     "output_type": "execute_result"
    }
   ],
   "source": [
    "list(map(str.upper,l))"
   ]
  },
  {
   "cell_type": "code",
   "execution_count": 104,
   "id": "fd582dd3",
   "metadata": {},
   "outputs": [
    {
     "name": "stdout",
     "output_type": "stream",
     "text": [
      "[6, 5, 5]\n"
     ]
    }
   ],
   "source": [
    "l=['SUMIiT', 'KUMAR', 'SINGH']\n",
    "x=[]\n",
    "for i in l:\n",
    "    x.append(len(i)) \n",
    "print(x)\n",
    "    "
   ]
  },
  {
   "cell_type": "code",
   "execution_count": 105,
   "id": "3b9d569d",
   "metadata": {},
   "outputs": [],
   "source": [
    "z=lambda a:len(a)"
   ]
  },
  {
   "cell_type": "code",
   "execution_count": 106,
   "id": "7836cb15",
   "metadata": {},
   "outputs": [
    {
     "data": {
      "text/plain": [
       "[6, 5, 5]"
      ]
     },
     "execution_count": 106,
     "metadata": {},
     "output_type": "execute_result"
    }
   ],
   "source": [
    "list(map(z,l))"
   ]
  },
  {
   "cell_type": "code",
   "execution_count": 107,
   "id": "19f24c9c",
   "metadata": {},
   "outputs": [
    {
     "data": {
      "text/plain": [
       "[6, 5, 5]"
      ]
     },
     "execution_count": 107,
     "metadata": {},
     "output_type": "execute_result"
    }
   ],
   "source": [
    "#or\n",
    "list(map(len,l))"
   ]
  },
  {
   "cell_type": "code",
   "execution_count": 108,
   "id": "00cdb8ae",
   "metadata": {},
   "outputs": [],
   "source": [
    "#filter function"
   ]
  },
  {
   "cell_type": "code",
   "execution_count": 109,
   "id": "be148da8",
   "metadata": {},
   "outputs": [],
   "source": [
    "l=[1,2,3,4,5,6,7,8,9]"
   ]
  },
  {
   "cell_type": "code",
   "execution_count": 111,
   "id": "fec42aa7",
   "metadata": {},
   "outputs": [],
   "source": [
    "l1=[]\n",
    "for i in l:\n",
    "    if i%2==0:\n",
    "        l1.append(i)"
   ]
  },
  {
   "cell_type": "code",
   "execution_count": 112,
   "id": "d3685625",
   "metadata": {},
   "outputs": [
    {
     "name": "stdout",
     "output_type": "stream",
     "text": [
      "[2, 4, 6, 8]\n"
     ]
    }
   ],
   "source": [
    "print(l1)"
   ]
  },
  {
   "cell_type": "code",
   "execution_count": 113,
   "id": "94642a31",
   "metadata": {},
   "outputs": [
    {
     "data": {
      "text/plain": [
       "[2, 4, 6, 8]"
      ]
     },
     "execution_count": 113,
     "metadata": {},
     "output_type": "execute_result"
    }
   ],
   "source": [
    "[i for i in l if i%2==0]"
   ]
  },
  {
   "cell_type": "code",
   "execution_count": 114,
   "id": "e73597d0",
   "metadata": {},
   "outputs": [],
   "source": [
    "x=lambda a :a if a%2==0 else None"
   ]
  },
  {
   "cell_type": "code",
   "execution_count": 117,
   "id": "fc750b53",
   "metadata": {},
   "outputs": [
    {
     "data": {
      "text/plain": [
       "[None, 2, None, 4, None, 6, None, 8, None]"
      ]
     },
     "execution_count": 117,
     "metadata": {},
     "output_type": "execute_result"
    }
   ],
   "source": [
    "list(map(x,l))"
   ]
  },
  {
   "cell_type": "code",
   "execution_count": 118,
   "id": "0dee82b2",
   "metadata": {},
   "outputs": [
    {
     "data": {
      "text/plain": [
       "[2, 4, 6, 8]"
      ]
     },
     "execution_count": 118,
     "metadata": {},
     "output_type": "execute_result"
    }
   ],
   "source": [
    "list(filter(x,l))"
   ]
  },
  {
   "cell_type": "code",
   "execution_count": 119,
   "id": "538c3e12",
   "metadata": {},
   "outputs": [],
   "source": [
    "#reduce\n",
    "l=[2, 4, 6, 8]"
   ]
  },
  {
   "cell_type": "code",
   "execution_count": 120,
   "id": "ebdd726c",
   "metadata": {},
   "outputs": [
    {
     "data": {
      "text/plain": [
       "20"
      ]
     },
     "execution_count": 120,
     "metadata": {},
     "output_type": "execute_result"
    }
   ],
   "source": [
    "sum(l)"
   ]
  },
  {
   "cell_type": "code",
   "execution_count": 121,
   "id": "897693df",
   "metadata": {},
   "outputs": [],
   "source": [
    "from functools import reduce"
   ]
  },
  {
   "cell_type": "code",
   "execution_count": 122,
   "id": "17feea2e",
   "metadata": {},
   "outputs": [
    {
     "data": {
      "text/plain": [
       "384"
      ]
     },
     "execution_count": 122,
     "metadata": {},
     "output_type": "execute_result"
    }
   ],
   "source": [
    "reduce(lambda a,b:a*b,l)"
   ]
  },
  {
   "cell_type": "code",
   "execution_count": 123,
   "id": "2f1a217c",
   "metadata": {},
   "outputs": [
    {
     "data": {
      "text/plain": [
       "3"
      ]
     },
     "execution_count": 123,
     "metadata": {},
     "output_type": "execute_result"
    }
   ],
   "source": [
    "l=[3]\n",
    "reduce(lambda a,b:a*b,l)"
   ]
  },
  {
   "cell_type": "code",
   "execution_count": null,
   "id": "03bcf117",
   "metadata": {},
   "outputs": [],
   "source": []
  }
 ],
 "metadata": {
  "kernelspec": {
   "display_name": "Python 3 (ipykernel)",
   "language": "python",
   "name": "python3"
  },
  "language_info": {
   "codemirror_mode": {
    "name": "ipython",
    "version": 3
   },
   "file_extension": ".py",
   "mimetype": "text/x-python",
   "name": "python",
   "nbconvert_exporter": "python",
   "pygments_lexer": "ipython3",
   "version": "3.9.12"
  }
 },
 "nbformat": 4,
 "nbformat_minor": 5
}
