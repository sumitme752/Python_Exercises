{
 "cells": [
  {
   "cell_type": "code",
   "execution_count": 1,
   "id": "9b9814c5",
   "metadata": {},
   "outputs": [],
   "source": [
    "# Write a Python function to calculate the factorial of a number.\n",
    "\n",
    "def fact(n):\n",
    "    if n == 0:\n",
    "        return 1\n",
    "    else:\n",
    "        return n * fact(n-1)"
   ]
  },
  {
   "cell_type": "code",
   "execution_count": 3,
   "id": "382d18f5",
   "metadata": {},
   "outputs": [
    {
     "data": {
      "text/plain": [
       "24"
      ]
     },
     "execution_count": 3,
     "metadata": {},
     "output_type": "execute_result"
    }
   ],
   "source": [
    "fact(4)"
   ]
  },
  {
   "cell_type": "code",
   "execution_count": 44,
   "id": "3d4670e7",
   "metadata": {},
   "outputs": [],
   "source": [
    "# Write a Python function to find the nth Fibonacci number.\n",
    "\n",
    "def fib(a):\n",
    "    if a <= 1:\n",
    "        return a\n",
    "    else:\n",
    "        return fib(a-1) + fib(a-2)"
   ]
  },
  {
   "cell_type": "code",
   "execution_count": 45,
   "id": "7534514d",
   "metadata": {},
   "outputs": [
    {
     "data": {
      "text/plain": [
       "8"
      ]
     },
     "execution_count": 45,
     "metadata": {},
     "output_type": "execute_result"
    }
   ],
   "source": [
    "fib(6)"
   ]
  },
  {
   "cell_type": "code",
   "execution_count": 46,
   "id": "0d7adbf1",
   "metadata": {},
   "outputs": [],
   "source": [
    "def fibonacci(n):\n",
    "    seq=[0,1]\n",
    "    for i in range(2,n):\n",
    "        seq.append(seq[i-1] + seq[i-2])\n",
    "    return seq    \n"
   ]
  },
  {
   "cell_type": "code",
   "execution_count": 47,
   "id": "626205e0",
   "metadata": {},
   "outputs": [
    {
     "data": {
      "text/plain": [
       "[0, 1, 1, 2, 3, 5, 8]"
      ]
     },
     "execution_count": 47,
     "metadata": {},
     "output_type": "execute_result"
    }
   ],
   "source": [
    "fibonacci(7)"
   ]
  },
  {
   "cell_type": "code",
   "execution_count": 55,
   "id": "8c70066d",
   "metadata": {},
   "outputs": [
    {
     "name": "stdout",
     "output_type": "stream",
     "text": [
      "Enter the word :adda\n",
      "It is palindrome\n"
     ]
    }
   ],
   "source": [
    "# Implement a function to check if a given string is a palindrome.\n",
    "\n",
    "st=(input(\"Enter the word :\"))\n",
    "\n",
    "if st == st[::-1]:\n",
    "    print( \"It is palindrome\")\n",
    "else:\n",
    "    print(\"It is not palindrome\")"
   ]
  },
  {
   "cell_type": "code",
   "execution_count": 57,
   "id": "e134fc72",
   "metadata": {},
   "outputs": [
    {
     "data": {
      "text/plain": [
       "5.5"
      ]
     },
     "execution_count": 57,
     "metadata": {},
     "output_type": "execute_result"
    }
   ],
   "source": [
    "# Write a Python function to calculate the mean of a list of numbers.\n",
    "import numpy as np\n",
    "lst = [2,3,4,5,6,7,8,9]\n",
    "np.mean(lst)"
   ]
  },
  {
   "cell_type": "code",
   "execution_count": 60,
   "id": "a769751c",
   "metadata": {},
   "outputs": [],
   "source": [
    "# or\n",
    "def men(lst):\n",
    "    return sum(lst)/ len(lst)"
   ]
  },
  {
   "cell_type": "code",
   "execution_count": 61,
   "id": "4bc06cb2",
   "metadata": {},
   "outputs": [
    {
     "data": {
      "text/plain": [
       "5.5"
      ]
     },
     "execution_count": 61,
     "metadata": {},
     "output_type": "execute_result"
    }
   ],
   "source": [
    "men([2,3,4,5,6,7,8,9])"
   ]
  },
  {
   "cell_type": "code",
   "execution_count": 62,
   "id": "ef90045e",
   "metadata": {},
   "outputs": [
    {
     "data": {
      "text/plain": [
       "44"
      ]
     },
     "execution_count": 62,
     "metadata": {},
     "output_type": "execute_result"
    }
   ],
   "source": [
    "sum([2,3,4,5,6,7,8,9])"
   ]
  },
  {
   "cell_type": "code",
   "execution_count": 63,
   "id": "1507237c",
   "metadata": {},
   "outputs": [
    {
     "data": {
      "text/plain": [
       "8"
      ]
     },
     "execution_count": 63,
     "metadata": {},
     "output_type": "execute_result"
    }
   ],
   "source": [
    "len([2,3,4,5,6,7,8,9])"
   ]
  },
  {
   "cell_type": "code",
   "execution_count": 104,
   "id": "1f0c8199",
   "metadata": {},
   "outputs": [],
   "source": [
    "# Write a Python function to calculate the median of a list of numbers.\n",
    "\n",
    "lst = [2,3,4,5,6,7,8,9]\n",
    "\n",
    "def med(n):\n",
    "    medi=0\n",
    "    if len(n)%2!=0:\n",
    "        x= int(len(n)/2)\n",
    "        medi=n[x]\n",
    "    else:\n",
    "        x=int(len(n)/2)\n",
    "        medi=(n[x-1]+n[x])/2\n",
    "    return medi    "
   ]
  },
  {
   "cell_type": "code",
   "execution_count": 105,
   "id": "a92adc54",
   "metadata": {},
   "outputs": [
    {
     "data": {
      "text/plain": [
       "9"
      ]
     },
     "execution_count": 105,
     "metadata": {},
     "output_type": "execute_result"
    }
   ],
   "source": [
    "med([3,4,5,6,7,8,9,3,1,6,5,4,3])"
   ]
  },
  {
   "cell_type": "code",
   "execution_count": 106,
   "id": "d20d3a54",
   "metadata": {},
   "outputs": [
    {
     "data": {
      "text/plain": [
       "8.5"
      ]
     },
     "execution_count": 106,
     "metadata": {},
     "output_type": "execute_result"
    }
   ],
   "source": [
    "med([3,4,5,6,7,8,9,3,1,6,5,4])"
   ]
  },
  {
   "cell_type": "code",
   "execution_count": 97,
   "id": "a1140bbb",
   "metadata": {},
   "outputs": [
    {
     "data": {
      "text/plain": [
       "6.5"
      ]
     },
     "execution_count": 97,
     "metadata": {},
     "output_type": "execute_result"
    }
   ],
   "source": [
    "lst = [3,4,5,6,7,8,9,3,1,6,5,4,3]\n",
    "a=len(lst)/2 \n",
    "a"
   ]
  },
  {
   "cell_type": "code",
   "execution_count": 130,
   "id": "d535a7f4",
   "metadata": {},
   "outputs": [
    {
     "name": "stdout",
     "output_type": "stream",
     "text": [
      "{2: 1, 3: 2, 5: 1, 6: 3, 8: 1, 9: 1}\n",
      "\n",
      "3\n"
     ]
    }
   ],
   "source": [
    "# Write a Python function to calculate the mode of a list of numbers.\n",
    "\n",
    "lst = [2,3,3,5,6,6,6,8,9]\n",
    "\n",
    "dic={}\n",
    "for i in lst:\n",
    "    if i in dic:\n",
    "        dic[i] = dic[i]+1\n",
    "    else:\n",
    "        dic[i]=1\n",
    "print(dic)\n",
    "print()\n",
    "\n",
    "print(max(dic.values()))\n",
    "\n",
    "    \n",
    "    "
   ]
  },
  {
   "cell_type": "code",
   "execution_count": 135,
   "id": "699b0f48",
   "metadata": {},
   "outputs": [
    {
     "name": "stdout",
     "output_type": "stream",
     "text": [
      "[6]\n"
     ]
    }
   ],
   "source": [
    "x= [i for i in dic if dic[i]== max(dic.values())]\n",
    "print(x)"
   ]
  },
  {
   "cell_type": "code",
   "execution_count": 138,
   "id": "729d51fa",
   "metadata": {},
   "outputs": [
    {
     "name": "stdout",
     "output_type": "stream",
     "text": [
      "6\n"
     ]
    }
   ],
   "source": [
    "for i in dic:\n",
    "    if dic[i]==max(dic.values()):\n",
    "        print(i)"
   ]
  },
  {
   "cell_type": "code",
   "execution_count": 139,
   "id": "8258084d",
   "metadata": {},
   "outputs": [],
   "source": [
    "#Given a list of numbers, \n",
    "# write a function to find the maximum and minimum values without using the built-in max() and min() functions.\n",
    "def fun(n):\n",
    "    maximum = n[0]\n",
    "    minimum = n[0]\n",
    "    for i in n:\n",
    "        if i>maximum:\n",
    "            maximum=i\n",
    "        elif minimum  >i:\n",
    "            minimum = i\n",
    "            \n",
    "    return maximum,minimum\n",
    "        \n",
    "            "
   ]
  },
  {
   "cell_type": "code",
   "execution_count": 140,
   "id": "dfe772fe",
   "metadata": {},
   "outputs": [
    {
     "data": {
      "text/plain": [
       "(99, 2)"
      ]
     },
     "execution_count": 140,
     "metadata": {},
     "output_type": "execute_result"
    }
   ],
   "source": [
    "fun([2,6,4,5,99,6])"
   ]
  },
  {
   "cell_type": "code",
   "execution_count": 146,
   "id": "45084959",
   "metadata": {},
   "outputs": [],
   "source": [
    "# Implement a function to count the frequency of each word in a given text.\n",
    "\n",
    "def cont(x):\n",
    "    dt ={}\n",
    "    lst=x.split()\n",
    "    for i in lst:\n",
    "        if i in dt:\n",
    "            dt[i] +=1\n",
    "        else:\n",
    "            dt[i]=1\n",
    "    return dt       "
   ]
  },
  {
   "cell_type": "code",
   "execution_count": 147,
   "id": "5a3a839a",
   "metadata": {},
   "outputs": [
    {
     "data": {
      "text/plain": [
       "{'my': 2, 'name': 2, 'is': 2, 'sumit': 2, 'kumar': 2, 'and': 1, 'sanya': 1}"
      ]
     },
     "execution_count": 147,
     "metadata": {},
     "output_type": "execute_result"
    }
   ],
   "source": [
    "cont(\"my name is sumit kumar and my name is sanya sumit kumar\")"
   ]
  },
  {
   "cell_type": "code",
   "execution_count": 162,
   "id": "94896550",
   "metadata": {},
   "outputs": [
    {
     "data": {
      "text/plain": [
       "['my',\n",
       " 'name',\n",
       " 'is',\n",
       " 'sumit',\n",
       " 'kumar',\n",
       " 'and',\n",
       " 'my',\n",
       " 'name',\n",
       " 'is',\n",
       " 'sanya',\n",
       " 'sumit',\n",
       " 'kumar']"
      ]
     },
     "execution_count": 162,
     "metadata": {},
     "output_type": "execute_result"
    }
   ],
   "source": [
    "x=\"my name is sumit kumar and my name is sanya sumit kumar\"\n",
    "x.split()"
   ]
  },
  {
   "cell_type": "code",
   "execution_count": 149,
   "id": "0e6b91ba",
   "metadata": {},
   "outputs": [
    {
     "name": "stdout",
     "output_type": "stream",
     "text": [
      "{1, 3, 4, 5, 6, 7, 8, 9}\n"
     ]
    }
   ],
   "source": [
    "# Write a Python function to find the intersection of two lists.\n",
    "lst = [3,4,5,6,7,8,9,3,1,6,5,4,3,88,76,54,78]\n",
    "lst1 = [3,4,5,6,7,8,9,3,1,6,5,4]\n",
    "print(set(lst).intersection(set(lst1)))"
   ]
  },
  {
   "cell_type": "code",
   "execution_count": 158,
   "id": "f8ad57b1",
   "metadata": {},
   "outputs": [],
   "source": [
    "# Implement a function to sort a list of dictionaries based on a specific key."
   ]
  },
  {
   "cell_type": "code",
   "execution_count": 159,
   "id": "3d3efc0a",
   "metadata": {},
   "outputs": [],
   "source": [
    "def sort_list_of_dicts(list_of_dicts, key):\n",
    "    return sorted(list_of_dicts, key=lambda x: x[key])\n"
   ]
  },
  {
   "cell_type": "code",
   "execution_count": 160,
   "id": "e70074d2",
   "metadata": {},
   "outputs": [
    {
     "name": "stdout",
     "output_type": "stream",
     "text": [
      "[{'name': 'Charlie', 'age': 20}, {'name': 'Alice', 'age': 25}, {'name': 'Bob', 'age': 30}]\n"
     ]
    }
   ],
   "source": [
    "data = [\n",
    "    {'name': 'Alice', 'age': 25},\n",
    "    {'name': 'Bob', 'age': 30},\n",
    "    {'name': 'Charlie', 'age': 20}\n",
    "]\n",
    "\n",
    "sorted_data = sort_list_of_dicts(data, 'age')\n",
    "print(sorted_data)\n",
    "\n"
   ]
  },
  {
   "cell_type": "code",
   "execution_count": 161,
   "id": "dc5c1f93",
   "metadata": {},
   "outputs": [],
   "source": [
    "## Need to revise lambda function and list comprehension"
   ]
  },
  {
   "cell_type": "code",
   "execution_count": 163,
   "id": "cb05b80d",
   "metadata": {},
   "outputs": [
    {
     "name": "stdout",
     "output_type": "stream",
     "text": [
      "Enter the first string: sumit\n",
      "Enter the second string: sanya\n",
      "Common characters: ['s']\n"
     ]
    }
   ],
   "source": [
    "def common_characters(str1, str2):\n",
    "    common = set(str1) & set(str2)\n",
    "    return list(common)\n",
    "\n",
    "string1 = input(\"Enter the first string: \")\n",
    "string2 = input(\"Enter the second string: \")\n",
    "result = common_characters(string1, string2)\n",
    "print(\"Common characters:\", result)\n"
   ]
  },
  {
   "cell_type": "code",
   "execution_count": 1,
   "id": "24a13371",
   "metadata": {},
   "outputs": [
    {
     "data": {
      "text/plain": [
       "3"
      ]
     },
     "execution_count": 1,
     "metadata": {},
     "output_type": "execute_result"
    }
   ],
   "source": [
    "7//2"
   ]
  },
  {
   "cell_type": "code",
   "execution_count": 2,
   "id": "678c37d9",
   "metadata": {},
   "outputs": [
    {
     "data": {
      "text/plain": [
       "[10, 9, 8, 7, 6, 5, 4, 3, 2]"
      ]
     },
     "execution_count": 2,
     "metadata": {},
     "output_type": "execute_result"
    }
   ],
   "source": [
    "list(range(10,1,-1))"
   ]
  },
  {
   "cell_type": "code",
   "execution_count": 8,
   "id": "70909b62",
   "metadata": {},
   "outputs": [],
   "source": [
    "lst=[1,2,3,4,5]"
   ]
  },
  {
   "cell_type": "code",
   "execution_count": 9,
   "id": "2bdc6652",
   "metadata": {},
   "outputs": [],
   "source": [
    "lst.remove(2)"
   ]
  },
  {
   "cell_type": "code",
   "execution_count": 10,
   "id": "326bb8be",
   "metadata": {},
   "outputs": [
    {
     "data": {
      "text/plain": [
       "[1, 3, 4, 5]"
      ]
     },
     "execution_count": 10,
     "metadata": {},
     "output_type": "execute_result"
    }
   ],
   "source": [
    "lst"
   ]
  },
  {
   "cell_type": "code",
   "execution_count": 15,
   "id": "3fdd0975",
   "metadata": {},
   "outputs": [],
   "source": [
    "y=\"kjsda;sdasd;asdaf;\""
   ]
  },
  {
   "cell_type": "code",
   "execution_count": 16,
   "id": "42039d5f",
   "metadata": {},
   "outputs": [],
   "source": [
    "z=y.split(';')"
   ]
  },
  {
   "cell_type": "code",
   "execution_count": 17,
   "id": "5a72084d",
   "metadata": {},
   "outputs": [
    {
     "data": {
      "text/plain": [
       "['kjsda', 'sdasd', 'asdaf', '']"
      ]
     },
     "execution_count": 17,
     "metadata": {},
     "output_type": "execute_result"
    }
   ],
   "source": [
    "z"
   ]
  },
  {
   "cell_type": "code",
   "execution_count": 18,
   "id": "3c8e09e3",
   "metadata": {},
   "outputs": [
    {
     "data": {
      "text/plain": [
       "4"
      ]
     },
     "execution_count": 18,
     "metadata": {},
     "output_type": "execute_result"
    }
   ],
   "source": [
    "len(z)"
   ]
  },
  {
   "cell_type": "code",
   "execution_count": 19,
   "id": "c31944db",
   "metadata": {},
   "outputs": [],
   "source": [
    "x={1,2,3,4,5}"
   ]
  },
  {
   "cell_type": "code",
   "execution_count": 20,
   "id": "0b2426b9",
   "metadata": {},
   "outputs": [],
   "source": [
    "x.add(5)"
   ]
  },
  {
   "cell_type": "code",
   "execution_count": 21,
   "id": "60b809d7",
   "metadata": {},
   "outputs": [],
   "source": [
    "x.add(6)"
   ]
  },
  {
   "cell_type": "code",
   "execution_count": 22,
   "id": "8a91cd5a",
   "metadata": {},
   "outputs": [
    {
     "data": {
      "text/plain": [
       "{1, 2, 3, 4, 5, 6}"
      ]
     },
     "execution_count": 22,
     "metadata": {},
     "output_type": "execute_result"
    }
   ],
   "source": [
    "x"
   ]
  },
  {
   "cell_type": "code",
   "execution_count": 27,
   "id": "6feff044",
   "metadata": {},
   "outputs": [],
   "source": [
    "import numpy as np\n",
    "a= np.array([1,2,3])\n",
    "b= np.array([4,5,6])"
   ]
  },
  {
   "cell_type": "code",
   "execution_count": 26,
   "id": "2cd1e526",
   "metadata": {},
   "outputs": [
    {
     "name": "stdout",
     "output_type": "stream",
     "text": [
      "[2]\n"
     ]
    }
   ],
   "source": [
    "print(a[[False,True, False, False]])"
   ]
  },
  {
   "cell_type": "code",
   "execution_count": 28,
   "id": "130bc288",
   "metadata": {},
   "outputs": [],
   "source": [
    "c=a*b"
   ]
  },
  {
   "cell_type": "code",
   "execution_count": 29,
   "id": "64ce0957",
   "metadata": {},
   "outputs": [],
   "source": [
    "d=np.dot(a,b)"
   ]
  },
  {
   "cell_type": "code",
   "execution_count": 30,
   "id": "ae4814fc",
   "metadata": {},
   "outputs": [
    {
     "data": {
      "text/plain": [
       "array([ 4, 10, 18])"
      ]
     },
     "execution_count": 30,
     "metadata": {},
     "output_type": "execute_result"
    }
   ],
   "source": [
    "c"
   ]
  },
  {
   "cell_type": "code",
   "execution_count": 31,
   "id": "8696d82b",
   "metadata": {},
   "outputs": [
    {
     "data": {
      "text/plain": [
       "32"
      ]
     },
     "execution_count": 31,
     "metadata": {},
     "output_type": "execute_result"
    }
   ],
   "source": [
    "d"
   ]
  },
  {
   "cell_type": "code",
   "execution_count": 33,
   "id": "af83b69b",
   "metadata": {},
   "outputs": [
    {
     "data": {
      "text/plain": [
       "[1, 2, 3, 1, 2, 3, 1, 2, 3]"
      ]
     },
     "execution_count": 33,
     "metadata": {},
     "output_type": "execute_result"
    }
   ],
   "source": [
    "[1,2,3] * 3"
   ]
  },
  {
   "cell_type": "code",
   "execution_count": 34,
   "id": "07896ce3",
   "metadata": {},
   "outputs": [
    {
     "data": {
      "text/plain": [
       "[2, 4, 6, 8]"
      ]
     },
     "execution_count": 34,
     "metadata": {},
     "output_type": "execute_result"
    }
   ],
   "source": [
    "[x*2 for x in range(1,5)]"
   ]
  },
  {
   "cell_type": "code",
   "execution_count": 35,
   "id": "f744a343",
   "metadata": {},
   "outputs": [],
   "source": [
    "x=np.array([\n",
    "    [1,3],\n",
    "    [2,4]\n",
    "])"
   ]
  },
  {
   "cell_type": "code",
   "execution_count": 36,
   "id": "acfaa6cc",
   "metadata": {},
   "outputs": [
    {
     "name": "stdout",
     "output_type": "stream",
     "text": [
      "[3 4]\n"
     ]
    }
   ],
   "source": [
    "print(x.max(axis=1))"
   ]
  },
  {
   "cell_type": "code",
   "execution_count": 38,
   "id": "a837e76d",
   "metadata": {},
   "outputs": [
    {
     "data": {
      "text/plain": [
       "{1: 1,\n",
       " 2: 4,\n",
       " 3: 9,\n",
       " 4: 16,\n",
       " 5: 25,\n",
       " 6: 36,\n",
       " 7: 49,\n",
       " 8: 64,\n",
       " 9: 81,\n",
       " 10: 100,\n",
       " 11: 121,\n",
       " 12: 144,\n",
       " 13: 169,\n",
       " 14: 196,\n",
       " 15: 225,\n",
       " 16: 256,\n",
       " 17: 289,\n",
       " 18: 324,\n",
       " 19: 361,\n",
       " 20: 400,\n",
       " 21: 441,\n",
       " 22: 484,\n",
       " 23: 529,\n",
       " 24: 576,\n",
       " 25: 625,\n",
       " 26: 676,\n",
       " 27: 729,\n",
       " 28: 784,\n",
       " 29: 841,\n",
       " 30: 900,\n",
       " 31: 961,\n",
       " 32: 1024,\n",
       " 33: 1089,\n",
       " 34: 1156,\n",
       " 35: 1225,\n",
       " 36: 1296,\n",
       " 37: 1369,\n",
       " 38: 1444,\n",
       " 39: 1521,\n",
       " 40: 1600,\n",
       " 41: 1681,\n",
       " 42: 1764,\n",
       " 43: 1849,\n",
       " 44: 1936,\n",
       " 45: 2025,\n",
       " 46: 2116,\n",
       " 47: 2209,\n",
       " 48: 2304,\n",
       " 49: 2401,\n",
       " 50: 2500,\n",
       " 51: 2601,\n",
       " 52: 2704,\n",
       " 53: 2809,\n",
       " 54: 2916,\n",
       " 55: 3025,\n",
       " 56: 3136,\n",
       " 57: 3249,\n",
       " 58: 3364,\n",
       " 59: 3481,\n",
       " 60: 3600,\n",
       " 61: 3721,\n",
       " 62: 3844,\n",
       " 63: 3969,\n",
       " 64: 4096,\n",
       " 65: 4225,\n",
       " 66: 4356,\n",
       " 67: 4489,\n",
       " 68: 4624,\n",
       " 69: 4761,\n",
       " 70: 4900,\n",
       " 71: 5041,\n",
       " 72: 5184,\n",
       " 73: 5329,\n",
       " 74: 5476,\n",
       " 75: 5625,\n",
       " 76: 5776,\n",
       " 77: 5929,\n",
       " 78: 6084,\n",
       " 79: 6241,\n",
       " 80: 6400,\n",
       " 81: 6561,\n",
       " 82: 6724,\n",
       " 83: 6889,\n",
       " 84: 7056,\n",
       " 85: 7225,\n",
       " 86: 7396,\n",
       " 87: 7569,\n",
       " 88: 7744,\n",
       " 89: 7921,\n",
       " 90: 8100,\n",
       " 91: 8281,\n",
       " 92: 8464,\n",
       " 93: 8649,\n",
       " 94: 8836,\n",
       " 95: 9025,\n",
       " 96: 9216,\n",
       " 97: 9409,\n",
       " 98: 9604,\n",
       " 99: 9801}"
      ]
     },
     "execution_count": 38,
     "metadata": {},
     "output_type": "execute_result"
    }
   ],
   "source": [
    "{x:x*x for x in range(1,100)}"
   ]
  },
  {
   "cell_type": "code",
   "execution_count": 40,
   "id": "b91dd379",
   "metadata": {},
   "outputs": [
    {
     "name": "stdout",
     "output_type": "stream",
     "text": [
      "The number is 3\n"
     ]
    }
   ],
   "source": [
    "x=3\n",
    "print(f\"The number is {x}\")"
   ]
  },
  {
   "cell_type": "code",
   "execution_count": 41,
   "id": "e07be46f",
   "metadata": {},
   "outputs": [
    {
     "ename": "SyntaxError",
     "evalue": "non-default argument follows default argument (773267061.py, line 1)",
     "output_type": "error",
     "traceback": [
      "\u001b[0;36m  Input \u001b[0;32mIn [41]\u001b[0;36m\u001b[0m\n\u001b[0;31m    def be_friendly(greet=\"bjhdsfjhs\", name):\u001b[0m\n\u001b[0m                                           ^\u001b[0m\n\u001b[0;31mSyntaxError\u001b[0m\u001b[0;31m:\u001b[0m non-default argument follows default argument\n"
     ]
    }
   ],
   "source": [
    "def be_friendly(greet=\"bjhdsfjhs\", name):\n",
    "    pass"
   ]
  },
  {
   "cell_type": "code",
   "execution_count": 43,
   "id": "ed56a9dc",
   "metadata": {},
   "outputs": [
    {
     "data": {
      "text/plain": [
       "1"
      ]
     },
     "execution_count": 43,
     "metadata": {},
     "output_type": "execute_result"
    }
   ],
   "source": [
    "np.sum([True,False])"
   ]
  },
  {
   "cell_type": "code",
   "execution_count": 44,
   "id": "910059e8",
   "metadata": {},
   "outputs": [],
   "source": [
    "x=[1,2,3]\n",
    "y=[4,5,6]"
   ]
  },
  {
   "cell_type": "code",
   "execution_count": 48,
   "id": "f142db9c",
   "metadata": {},
   "outputs": [
    {
     "data": {
      "text/plain": [
       "[(1, 4), (2, 5), (3, 6)]"
      ]
     },
     "execution_count": 48,
     "metadata": {},
     "output_type": "execute_result"
    }
   ],
   "source": [
    "list(zip(x,y))"
   ]
  },
  {
   "cell_type": "code",
   "execution_count": 49,
   "id": "1141e885",
   "metadata": {},
   "outputs": [
    {
     "name": "stdout",
     "output_type": "stream",
     "text": [
      "Bob\n"
     ]
    }
   ],
   "source": [
    "import pandas as pd\n",
    "\n",
    "data = {'Name': ['Alice', 'Bob', 'Charlie'],\n",
    "        'Age': [25, 30, 22],\n",
    "        'City': ['New York', 'San Francisco', 'Seattle']}\n",
    "\n",
    "df = pd.DataFrame(data)\n",
    "print(df.iloc[1, 0])  # Output: 'Bob'\n"
   ]
  },
  {
   "cell_type": "code",
   "execution_count": 50,
   "id": "64261b81",
   "metadata": {},
   "outputs": [
    {
     "data": {
      "text/html": [
       "<div>\n",
       "<style scoped>\n",
       "    .dataframe tbody tr th:only-of-type {\n",
       "        vertical-align: middle;\n",
       "    }\n",
       "\n",
       "    .dataframe tbody tr th {\n",
       "        vertical-align: top;\n",
       "    }\n",
       "\n",
       "    .dataframe thead th {\n",
       "        text-align: right;\n",
       "    }\n",
       "</style>\n",
       "<table border=\"1\" class=\"dataframe\">\n",
       "  <thead>\n",
       "    <tr style=\"text-align: right;\">\n",
       "      <th></th>\n",
       "      <th>Name</th>\n",
       "      <th>Age</th>\n",
       "      <th>City</th>\n",
       "    </tr>\n",
       "  </thead>\n",
       "  <tbody>\n",
       "    <tr>\n",
       "      <th>0</th>\n",
       "      <td>Alice</td>\n",
       "      <td>25</td>\n",
       "      <td>New York</td>\n",
       "    </tr>\n",
       "    <tr>\n",
       "      <th>1</th>\n",
       "      <td>Bob</td>\n",
       "      <td>30</td>\n",
       "      <td>San Francisco</td>\n",
       "    </tr>\n",
       "    <tr>\n",
       "      <th>2</th>\n",
       "      <td>Charlie</td>\n",
       "      <td>22</td>\n",
       "      <td>Seattle</td>\n",
       "    </tr>\n",
       "  </tbody>\n",
       "</table>\n",
       "</div>"
      ],
      "text/plain": [
       "      Name  Age           City\n",
       "0    Alice   25       New York\n",
       "1      Bob   30  San Francisco\n",
       "2  Charlie   22        Seattle"
      ]
     },
     "execution_count": 50,
     "metadata": {},
     "output_type": "execute_result"
    }
   ],
   "source": [
    "df"
   ]
  },
  {
   "cell_type": "code",
   "execution_count": 51,
   "id": "49857d04",
   "metadata": {},
   "outputs": [
    {
     "name": "stdout",
     "output_type": "stream",
     "text": [
      "Bob\n"
     ]
    }
   ],
   "source": [
    "import pandas as pd\n",
    "\n",
    "data = {'Name': ['Alice', 'Bob', 'Charlie'],\n",
    "        'Age': [25, 30, 22],\n",
    "        'City': ['New York', 'San Francisco', 'Seattle']}\n",
    "\n",
    "df = pd.DataFrame(data)\n",
    "print(df.loc[1, 'Name'])  # Output: 'Bob'\n"
   ]
  },
  {
   "cell_type": "code",
   "execution_count": null,
   "id": "ef07c3c2",
   "metadata": {},
   "outputs": [],
   "source": []
  }
 ],
 "metadata": {
  "kernelspec": {
   "display_name": "Python 3 (ipykernel)",
   "language": "python",
   "name": "python3"
  },
  "language_info": {
   "codemirror_mode": {
    "name": "ipython",
    "version": 3
   },
   "file_extension": ".py",
   "mimetype": "text/x-python",
   "name": "python",
   "nbconvert_exporter": "python",
   "pygments_lexer": "ipython3",
   "version": "3.9.12"
  }
 },
 "nbformat": 4,
 "nbformat_minor": 5
}
